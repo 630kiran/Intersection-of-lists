{
  "nbformat": 4,
  "nbformat_minor": 0,
  "metadata": {
    "kernelspec": {
      "display_name": "Python 3",
      "language": "python",
      "name": "python3"
    },
    "language_info": {
      "codemirror_mode": {
        "name": "ipython",
        "version": 3
      },
      "file_extension": ".py",
      "mimetype": "text/x-python",
      "name": "python",
      "nbconvert_exporter": "python",
      "pygments_lexer": "ipython3",
      "version": "3.7.1"
    },
    "colab": {
      "provenance": [],
      "include_colab_link": true
    }
  },
  "cells": [
    {
      "cell_type": "markdown",
      "metadata": {
        "id": "view-in-github",
        "colab_type": "text"
      },
      "source": [
        "<a href=\"https://colab.research.google.com/github/630kiran/Intersection-of-lists/blob/main/Project_Intersection_of_Lists.ipynb\" target=\"_parent\"><img src=\"https://colab.research.google.com/assets/colab-badge.svg\" alt=\"Open In Colab\"/></a>"
      ]
    },
    {
      "cell_type": "markdown",
      "metadata": {
        "id": "rtBrwN-Aexbo"
      },
      "source": [
        "Given a list of n lists, write a function which returns the intersection of all the n lists. Each list can have any number of elements.\n",
        "\n",
        "Example 1:\n",
        "\n",
        "```\n",
        "input = [[5, 5, 5, 8, 10], \n",
        "      [5, 5, 7, 8], \n",
        "      [5, 5, 8, 9, 11]]\n",
        "```\n",
        "\n",
        "```\n",
        "output = [5, 5, 8]\n",
        "```\n",
        "\n",
        "Example 2:\n",
        "\n",
        "```\n",
        "input = [[5, 6], \n",
        "      [5, 5, 7, 8], \n",
        "      [5, 5, 8, 9]]\n",
        "```\n",
        "\n",
        "\n",
        "```\n",
        "output = [5]\n",
        "```"
      ]
    },
    {
      "cell_type": "markdown",
      "source": [
        "#*Method 1*"
      ],
      "metadata": {
        "id": "rqIDmZLwtRRs"
      }
    },
    {
      "cell_type": "code",
      "source": [
        "lsts = [[5, 5], \n",
        "      [5, 5, 7, 8], \n",
        "      [5, 5, 8, 9]]"
      ],
      "metadata": {
        "id": "Opg-lk8WtUnF"
      },
      "execution_count": null,
      "outputs": []
    },
    {
      "cell_type": "code",
      "source": [
        "def get_intersection_1(lsts):\n",
        "\n",
        "  min_len = len(lsts[0])\n",
        "  for l in lsts:\n",
        "      if len(l)<=min_len:\n",
        "          min_len = len(l)\n",
        "          min_len_list = l\n",
        "\n",
        "  d = {}\n",
        "  for elem in min_len_list:\n",
        "      if elem in d.keys():\n",
        "          d[elem] = d[elem]+1\n",
        "      else:\n",
        "          d[elem] = 1\n",
        "\n",
        "  for key in d.keys():\n",
        "    for l in lsts:\n",
        "      count = 0\n",
        "      for item in l:\n",
        "        if key==item:\n",
        "          count = count + 1\n",
        "      \n",
        "      if d[key] > count:\n",
        "        d[key] = count\n",
        "\n",
        "  lst = []\n",
        "  for key, value in d.items():\n",
        "      for v in range(value):\n",
        "          lst.append(key)\n",
        "        \n",
        "  return lst\n"
      ],
      "metadata": {
        "id": "XSevVAREtYSj"
      },
      "execution_count": null,
      "outputs": []
    },
    {
      "cell_type": "code",
      "source": [
        "get_intersection_1(lsts)"
      ],
      "metadata": {
        "id": "i1H6P5yUtfo_",
        "outputId": "036e3d33-1177-45f3-f53f-49c646428011",
        "colab": {
          "base_uri": "https://localhost:8080/"
        }
      },
      "execution_count": null,
      "outputs": [
        {
          "output_type": "execute_result",
          "data": {
            "text/plain": [
              "[5, 5]"
            ]
          },
          "metadata": {},
          "execution_count": 3
        }
      ]
    },
    {
      "cell_type": "markdown",
      "source": [
        "#**Time Complexity: O(m^2 * n) where n -> no. of lists and m -> no. of elements in each list**\n",
        "#**Auxiliary Space Complexity: O(m)**"
      ],
      "metadata": {
        "id": "Yrs6j5vdtm74"
      }
    },
    {
      "cell_type": "markdown",
      "source": [
        "#***Method 2***"
      ],
      "metadata": {
        "id": "idRgmxtQt9-8"
      }
    },
    {
      "cell_type": "code",
      "source": [
        "lsts = [[5, 5], \n",
        "      [5, 5, 7, 8], \n",
        "      [5, 5, 8, 9]]"
      ],
      "metadata": {
        "id": "t1886JyvtjSZ"
      },
      "execution_count": null,
      "outputs": []
    },
    {
      "cell_type": "code",
      "source": [
        "def get_intersection_2(lsts):\n",
        "\n",
        "  global_map = {}\n",
        "\n",
        "  for l in lsts:\n",
        "    temp_map = {}\n",
        "    for elem in l:\n",
        "      temp_map[elem] = temp_map.get(elem, 0) + 1\n",
        "\n",
        "    for key in temp_map:\n",
        "      if key not in global_map.keys():\n",
        "        global_map[key] = [1, temp_map[key]]\n",
        "      else:\n",
        "        value = global_map[key]\n",
        "        global_map[key] = [value[0] + 1, min(temp_map[key], value[1])]\n",
        "\n",
        "  answer_list = []\n",
        "  for key, value in global_map.items():\n",
        "    if value[0]==len(lsts):\n",
        "      answer_list += [key] * value[1]\n",
        "\n",
        "  return answer_list"
      ],
      "metadata": {
        "id": "vIXg6IJ9uIPB"
      },
      "execution_count": null,
      "outputs": []
    },
    {
      "cell_type": "code",
      "source": [
        "get_intersection_2(lsts)"
      ],
      "metadata": {
        "id": "ZrohwCaMuJDy",
        "outputId": "4e104d0f-ae03-4051-d8d8-44305997736b",
        "colab": {
          "base_uri": "https://localhost:8080/"
        }
      },
      "execution_count": null,
      "outputs": [
        {
          "output_type": "execute_result",
          "data": {
            "text/plain": [
              "[5, 5]"
            ]
          },
          "metadata": {},
          "execution_count": 6
        }
      ]
    },
    {
      "cell_type": "markdown",
      "source": [
        "#*Time Complexity: O(m * n) where n -> no. of lists and m -> no. of elements in each list*\n",
        "#*Auxiliary Space Complexity: O(m * n)*"
      ],
      "metadata": {
        "id": "-FACQFcTuPPy"
      }
    },
    {
      "cell_type": "markdown",
      "source": [
        "#**Method 3**"
      ],
      "metadata": {
        "id": "Btu4FkJCuXwx"
      }
    },
    {
      "cell_type": "code",
      "source": [
        "lsts = [[5, 5], \n",
        "      [5, 5, 7, 8], \n",
        "      [5, 5, 8, 9]]"
      ],
      "metadata": {
        "id": "p4qieT_TuL_8"
      },
      "execution_count": null,
      "outputs": []
    },
    {
      "cell_type": "code",
      "source": [
        "def get_frequency_map(l):\n",
        "  map_ = {}\n",
        "  for elem in l:\n",
        "    map_[elem] = map_.get(elem, 0) + 1\n",
        "  return map_"
      ],
      "metadata": {
        "id": "9DMAGVRUucas"
      },
      "execution_count": null,
      "outputs": []
    },
    {
      "cell_type": "code",
      "source": [
        "def get_intersection_3(lsts):\n",
        "\n",
        "  global_map = {}\n",
        "\n",
        "  for l in lsts:\n",
        "    temp_map = get_frequency_map(l)\n",
        "\n",
        "    for key in temp_map.keys():\n",
        "      if key not in global_map.keys():\n",
        "        global_map[key] = [1, temp_map[key]]\n",
        "      else:\n",
        "        value = global_map[key]\n",
        "        global_map[key] = [value[0] + 1, min(temp_map[key], value[1])]\n",
        "\n",
        "  answer_list = []\n",
        "  for key, value in global_map.items():\n",
        "    if value[0]==len(lsts):\n",
        "      answer_list += [key] * value[1]\n",
        "\n",
        "  return answer_list"
      ],
      "metadata": {
        "id": "a4obcHndufAg"
      },
      "execution_count": null,
      "outputs": []
    },
    {
      "cell_type": "code",
      "source": [
        "get_intersection_3(lsts)"
      ],
      "metadata": {
        "id": "Objj2_gouh86",
        "outputId": "e618f6ca-db0c-4ff7-cddf-8a643adc4861",
        "colab": {
          "base_uri": "https://localhost:8080/"
        }
      },
      "execution_count": null,
      "outputs": [
        {
          "output_type": "execute_result",
          "data": {
            "text/plain": [
              "[5, 5]"
            ]
          },
          "metadata": {},
          "execution_count": 10
        }
      ]
    },
    {
      "cell_type": "markdown",
      "source": [
        "#**Time Complexity: O(m * n) where n -> no. of lists and m -> no. of elements in each list**\n",
        "#**Auxiliary Space Complexity: O(m * n)**"
      ],
      "metadata": {
        "id": "mppH7gxWulzz"
      }
    }
  ]
}